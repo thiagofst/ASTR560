{
 "cells": [
  {
   "cell_type": "code",
   "execution_count": 8,
   "metadata": {},
   "outputs": [],
   "source": [
    "import numpy as np\n",
    "import astropy.units as u\n",
    "\n",
    "from astropy.io import fits\n",
    "from astropy.wcs import WCS\n",
    "\n",
    "import cmocean as oc\n",
    "\n",
    "import smplotlib\n",
    "import matplotlib.pyplot as plt"
   ]
  },
  {
   "cell_type": "code",
   "execution_count": 9,
   "metadata": {},
   "outputs": [],
   "source": [
    "file_path = 'HOPS355_Continuum.fits'\n",
    "hdul = fits.open(file_path)\n",
    "data = hdul[0].data\n",
    "header = hdul[0].header\n",
    "hdul.close()"
   ]
  },
  {
   "cell_type": "code",
   "execution_count": null,
   "metadata": {},
   "outputs": [],
   "source": [
    "fig, ax = plt.subplots(figsize = (8, 8))\n",
    "ax.grid(alpha = 0.1)\n",
    "ax.set_title(r'HOPS 355', fontsize = 15, loc = 'left')\n",
    "p = plt.imshow(data, cmap = oc.cm.thermal, origin = 'lower')\n",
    "plt.colorbar(p, label = r'Flux Density, $F_\\nu$ / Jy beam$^{-1}$', pad = 0)\n",
    "ax.set_xlabel(r'RA ($\\alpha$) Pixel', fontsize = 15, labelpad = 12)\n",
    "ax.set_ylabel(r'DEC ($\\delta$) Pixel', fontsize = 15, labelpad = 12)\n",
    "\n",
    "plt.tight_layout()\n",
    "plt.savefig('Q06_HOPS355.pdf', dpi = 800)"
   ]
  },
  {
   "cell_type": "code",
   "execution_count": null,
   "metadata": {},
   "outputs": [],
   "source": [
    "distance_pc = 416\n",
    "distance_cm = distance_pc * 3.086e18\n",
    "frequency = 232.6e9\n",
    "temperature = 10 # dust\n",
    "dust_opacity = 0.02\n",
    "gas_to_dust_ratio = 130"
   ]
  },
  {
   "cell_type": "code",
   "execution_count": null,
   "metadata": {},
   "outputs": [],
   "source": [
    "beam_major = header['BMAJ'] * 3600 # deg to arcsec\n",
    "beam_minor = header['BMIN'] * 3600\n",
    "beam_area = np.pi * (beam_major / 2) * (beam_minor / 2)\n",
    "pixel_scale = abs(header['CDELT1']) * 3600\n",
    "pixel_area = pixel_scale ** 2\n",
    "beam_correction = pixel_area / beam_area  # Jy/beam to Jy/pixel\n",
    "\n",
    "wcs = WCS(header)\n",
    "image_center = (data.shape[1] // 2, data.shape[0] // 2)\n",
    "angular_radius = (2500 / (distance_pc * 206265))\n",
    "\n",
    "y, x = np.indices(data.shape)\n",
    "ra, dec = wcs.all_pix2world(x, y, 0)\n",
    "center_ra, center_dec = wcs.all_pix2world(image_center[1], image_center[0], 0)\n",
    "angular_distance = np.sqrt((ra - center_ra)**2 + (dec - center_dec)**2)\n",
    "mask = angular_distance <= angular_radius\n",
    "\n",
    "bunit = header.get('BUNIT', '').strip()\n",
    "if 'Jy/beam' in bunit:\n",
    "    flux_correction = beam_correction\n",
    "else:\n",
    "    flux_correction = 1.0"
   ]
  },
  {
   "cell_type": "markdown",
   "metadata": {},
   "source": [
    "In this case, we estimate the total mass (gas plus dust) contained within a molecular cloud core observed at a frequency of 232.6 GHz. We assume a source distance of 416 parsecs, corresponding to a linear distance of $d = 416 \\times 3.086 \\times 10^{18}$ cm. The dust temperature is assumed to be $10~K$, and the dust opacity at the observed frequency is set to $\\kappa_\\nu = 0.02\\ \\mathrm{cm}^2\\ \\mathrm{g}^{-1}$, appropriate for cold, dense environments (Furlan et al., 2016, ApJS, 224, 5). A gas-to-dust mass ratio of 130 is also adopted.\n",
    "\n",
    "The telescope’s beam size is retrieved from the FITS header, with the major and minor axes given in degrees and converted to arcseconds. For instance, if $\\text{BMAJ} = 0.001$ degrees, this yields $0.001 \\times 3600 = 3.6{\\prime}{\\prime}$. The beam area is then computed assuming a Gaussian profile as $A_{\\text{beam}} = \\pi ( \\text{major} / 2 ) ( \\text{minor} / 2 )$. The pixel scale is similarly determined from the WCS information, with each pixel subtending an area $\\text{pixel\\_area} = (\\text{pixel\\_scale})^2$ in arcsec-squared.\n",
    "\n",
    "A correction factor is calculated to convert Jy/beam to Jy/pixel if necessary (that one final ~if~), given by the ratio of the pixel area to the beam area. Using the WCS solution, we determine the central pixel coordinates and convert them to RA/Dec. The angular radius corresponding to a physical scale of 2500 AU is calculated using \n",
    "\n",
    "$$\n",
    "\\theta = \\frac{2500\\ \\mathrm{AU}}{416\\ \\mathrm{pc} \\times 206265\\ \\mathrm{AU/arcsec}} \\approx 0.029{\\prime}{\\prime}.\n",
    "$$\n",
    "\n",
    "We constructed a two-dimensional mask, selecting all pixels within this angular distance from the centre.\n",
    "\n",
    "We then integrate the total flux inside the masked region. If the FITS file has flux units in Jy/beam, the fluxes are corrected by the beam-to-pixel factor; otherwise, they are summed directly. The integrated flux is converted from Jy to cgs units by multiplying by $10^{-23}$.\n",
    "\n",
    "Next, we calculate the Planck function at 232.6 GHz and $10~K$ as\n",
    "\n",
    "$$\n",
    "B_\\nu(T) = \\frac{2h\\nu^3}{c^2} \\frac{1}{\\exp\\left( \\frac{h\\nu}{kT} \\right) - 1},\n",
    "$$\n",
    "\n",
    "where h is Planck’s constant, c is the speed of light, and k is Boltzmann’s constant.\n",
    "\n",
    "\n",
    "The dust mass is then derived assuming optically thin emission, using the standard relation\n",
    "\n",
    "$$\n",
    "M_\\mathrm{dust} = \\frac{F_\\nu d^2}{\\kappa_\\nu B_\\nu(T)}.\n",
    "$$\n",
    "\n",
    "In our case, $F_\\nu$ is the integrated flux in erg/s/cm2/Hz, $d$ is the distance in cm, $\\kappa_\\nu$ is the dust opacity, and $B_\\nu(T)$ is the Planck function evaluated at the dust temperature as previously mentioned.\n",
    "\n",
    "Finally, the total mass is obtained by multiplying the dust mass by the gas-to-dust ratio of 130."
   ]
  },
  {
   "cell_type": "code",
   "execution_count": null,
   "metadata": {},
   "outputs": [
    {
     "data": {
      "text/latex": [
       "$0.070434391 \\; \\mathrm{M_{\\odot}}$"
      ],
      "text/plain": [
       "<Quantity 0.07043439 solMass>"
      ]
     },
     "execution_count": 6,
     "metadata": {},
     "output_type": "execute_result"
    }
   ],
   "source": [
    "total_flux = np.nansum(data[mask]) * flux_correction  # Convert to Jy\n",
    "total_flux_cgs = total_flux * 1e-23\n",
    "B_nu = (2 * 6.626e-27 * frequency**3 / 3e10**2) / (np.exp((6.626e-27 * frequency) / (1.38e-16 * temperature)) - 1)\n",
    "M_dust = (total_flux_cgs * distance_cm**2) / (dust_opacity * B_nu) * u.g\n",
    "M_total = M_dust * gas_to_dust_ratio\n",
    "\n",
    "M_total.to(u.Msun)"
   ]
  },
  {
   "cell_type": "markdown",
   "metadata": {},
   "source": [
    "**IMPORTANT NOTE: IF WE INCREASE THE CONSIDERED AREA WE OBTAIN THAT THE ENVELOPE MASS IS ABOUT $0.87~M_\\odot$** (I guess this value is more correct, by assuming a larger area; considering just 2500 AU we just capture the \"core\" region)"
   ]
  },
  {
   "cell_type": "code",
   "execution_count": null,
   "metadata": {},
   "outputs": [
    {
     "data": {
      "text/latex": [
       "$0.87778085 \\; \\mathrm{M_{\\odot}}$"
      ],
      "text/plain": [
       "<Quantity 0.87778085 solMass>"
      ]
     },
     "execution_count": 7,
     "metadata": {},
     "output_type": "execute_result"
    }
   ],
   "source": [
    "beam_major = header['BMAJ'] * 3600 # deg to arcsec\n",
    "beam_minor = header['BMIN'] * 3600\n",
    "beam_area = np.pi * (beam_major / 2) * (beam_minor / 2)\n",
    "pixel_scale = abs(header['CDELT1']) * 3600\n",
    "pixel_area = pixel_scale ** 2\n",
    "beam_correction = pixel_area / beam_area  # Jy/beam to Jy/pixel\n",
    "\n",
    "wcs = WCS(header)\n",
    "image_center = (data.shape[1] // 2, data.shape[0] // 2)\n",
    "angular_radius = (9000 / (distance_pc * 206265))\n",
    "\n",
    "y, x = np.indices(data.shape)\n",
    "ra, dec = wcs.all_pix2world(x, y, 0)\n",
    "center_ra, center_dec = wcs.all_pix2world(image_center[1], image_center[0], 0)\n",
    "angular_distance = np.sqrt((ra - center_ra)**2 + (dec - center_dec)**2)\n",
    "mask = angular_distance <= angular_radius\n",
    "\n",
    "bunit = header.get('BUNIT', '').strip()\n",
    "if 'Jy/beam' in bunit:\n",
    "    flux_correction = beam_correction\n",
    "else:\n",
    "    flux_correction = 1.0\n",
    "\n",
    "\n",
    "total_flux = np.nansum(data[mask]) * flux_correction  # Convert to Jy\n",
    "total_flux_cgs = total_flux * 1e-23\n",
    "B_nu = (2 * 6.626e-27 * frequency**3 / 3e10**2) / (np.exp((6.626e-27 * frequency) / (1.38e-16 * temperature)) - 1)\n",
    "M_dust = (total_flux_cgs * distance_cm**2) / (dust_opacity * B_nu) * u.g\n",
    "M_total = M_dust * gas_to_dust_ratio\n",
    "\n",
    "M_total.to(u.Msun)"
   ]
  },
  {
   "cell_type": "code",
   "execution_count": null,
   "metadata": {},
   "outputs": [],
   "source": []
  }
 ],
 "metadata": {
  "kernelspec": {
   "display_name": "base",
   "language": "python",
   "name": "python3"
  },
  "language_info": {
   "codemirror_mode": {
    "name": "ipython",
    "version": 3
   },
   "file_extension": ".py",
   "mimetype": "text/x-python",
   "name": "python",
   "nbconvert_exporter": "python",
   "pygments_lexer": "ipython3",
   "version": "3.11.7"
  }
 },
 "nbformat": 4,
 "nbformat_minor": 2
}
