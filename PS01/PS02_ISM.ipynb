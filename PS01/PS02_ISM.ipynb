{
 "cells": [
  {
   "cell_type": "code",
   "execution_count": 1,
   "metadata": {},
   "outputs": [],
   "source": [
    "import astropy.units as u\n",
    "import numpy as np\n",
    "import matplotlib.pyplot as plt\n",
    "import smplotlib\n",
    "\n",
    "from astropy.constants import k_B, c, h"
   ]
  },
  {
   "cell_type": "markdown",
   "metadata": {},
   "source": [
    "# Question 01"
   ]
  },
  {
   "cell_type": "code",
   "execution_count": 2,
   "metadata": {},
   "outputs": [
    {
     "data": {
      "text/latex": [
       "$7.4861058 \\; \\mathrm{K}$"
      ],
      "text/plain": [
       "<Quantity 7.48610585 K>"
      ]
     },
     "execution_count": 2,
     "metadata": {},
     "output_type": "execute_result"
    }
   ],
   "source": [
    "I = 5.75e-12 * (u.erg / u.cm**2 / u.Hz / u.s)\n",
    "nu = (500 * u.MHz).to(u.s**(-1))\n",
    "\n",
    "T = I * c.to(u.cm / u.s)**2 / (2 * k_B.to(u.erg/u.K) * nu**2) # Hz = 1/s.\n",
    "T.to(u.K) / 1e7"
   ]
  },
  {
   "cell_type": "markdown",
   "metadata": {},
   "source": [
    "# Question 02"
   ]
  },
  {
   "cell_type": "code",
   "execution_count": 3,
   "metadata": {},
   "outputs": [
    {
     "name": "stdout",
     "output_type": "stream",
     "text": [
      "0.1943976876339561\n"
     ]
    }
   ],
   "source": [
    "alpha = 6.3e-22 * u.cm**(-1)\n",
    "d = (100 * u.pc).to(u.cm)\n",
    "tau = alpha * d; print(tau)"
   ]
  },
  {
   "cell_type": "code",
   "execution_count": 4,
   "metadata": {},
   "outputs": [
    {
     "data": {
      "text/latex": [
       "$17.666959 \\; \\mathrm{}$"
      ],
      "text/plain": [
       "<Quantity 17.66695892>"
      ]
     },
     "execution_count": 4,
     "metadata": {},
     "output_type": "execute_result"
    }
   ],
   "source": [
    "(1 - np.exp(-tau)) * 100"
   ]
  },
  {
   "cell_type": "markdown",
   "metadata": {},
   "source": [
    "# Question 03"
   ]
  },
  {
   "cell_type": "code",
   "execution_count": 5,
   "metadata": {},
   "outputs": [
    {
     "data": {
      "text/plain": [
       "0.9"
      ]
     },
     "execution_count": 5,
     "metadata": {},
     "output_type": "execute_result"
    }
   ],
   "source": [
    "tau = 0.1\n",
    "1-tau"
   ]
  },
  {
   "cell_type": "code",
   "execution_count": 6,
   "metadata": {},
   "outputs": [
    {
     "data": {
      "text/plain": [
       "array([0.90483742, 0.36787944, 0.04978707])"
      ]
     },
     "execution_count": 6,
     "metadata": {},
     "output_type": "execute_result"
    }
   ],
   "source": [
    "tau = [0.1, 1, 3]\n",
    "np.exp(-np.array(tau))"
   ]
  },
  {
   "cell_type": "markdown",
   "metadata": {},
   "source": [
    "# Question 05"
   ]
  },
  {
   "cell_type": "code",
   "execution_count": 7,
   "metadata": {},
   "outputs": [],
   "source": [
    "wav = 100 * u.cm\n",
    "alpha_nu = 1.3e-20 * u.cm**(-1)\n",
    "S_nu = 7.7e-14 * (u.erg / u.cm**2 / u.s / u.Hz)"
   ]
  },
  {
   "cell_type": "code",
   "execution_count": 8,
   "metadata": {},
   "outputs": [],
   "source": [
    "tau = lambda s: alpha_nu * s"
   ]
  },
  {
   "cell_type": "code",
   "execution_count": 9,
   "metadata": {},
   "outputs": [
    {
     "data": {
      "text/latex": [
       "$0.040113809 \\; \\mathrm{}$"
      ],
      "text/plain": [
       "<Quantity 0.04011381>"
      ]
     },
     "execution_count": 9,
     "metadata": {},
     "output_type": "execute_result"
    }
   ],
   "source": [
    "tau((1*u.pc).to(u.cm))"
   ]
  },
  {
   "cell_type": "code",
   "execution_count": 10,
   "metadata": {},
   "outputs": [],
   "source": [
    "Inu = lambda source, tau_: source * (1 - np.exp(-tau_)) # We could use (1-tau) instead of np.exp(-tau) for small tau here"
   ]
  },
  {
   "cell_type": "code",
   "execution_count": 11,
   "metadata": {},
   "outputs": [
    {
     "data": {
      "text/latex": [
       "$3.0276324 \\times 10^{-15} \\; \\mathrm{\\frac{erg}{Hz\\,s\\,cm^{2}}}$"
      ],
      "text/plain": [
       "<Quantity 3.02763235e-15 erg / (Hz s cm2)>"
      ]
     },
     "execution_count": 11,
     "metadata": {},
     "output_type": "execute_result"
    }
   ],
   "source": [
    "Inu(S_nu, tau((1*u.pc).to(u.cm))) "
   ]
  },
  {
   "cell_type": "code",
   "execution_count": 12,
   "metadata": {},
   "outputs": [
    {
     "data": {
      "text/latex": [
       "$2.5444065 \\times 10^{-14} \\; \\mathrm{\\frac{erg}{Hz\\,s\\,cm^{2}}}$"
      ],
      "text/plain": [
       "<Quantity 2.54440649e-14 erg / (Hz s cm2)>"
      ]
     },
     "execution_count": 12,
     "metadata": {},
     "output_type": "execute_result"
    }
   ],
   "source": [
    "Inu(S_nu, tau((10*u.pc).to(u.cm)))"
   ]
  },
  {
   "cell_type": "code",
   "execution_count": 13,
   "metadata": {},
   "outputs": [
    {
     "data": {
      "text/latex": [
       "$7.5605655 \\times 10^{-14} \\; \\mathrm{\\frac{erg}{Hz\\,s\\,cm^{2}}}$"
      ],
      "text/plain": [
       "<Quantity 7.56056553e-14 erg / (Hz s cm2)>"
      ]
     },
     "execution_count": 13,
     "metadata": {},
     "output_type": "execute_result"
    }
   ],
   "source": [
    "Inu(S_nu, tau((100*u.pc).to(u.cm)))"
   ]
  },
  {
   "cell_type": "code",
   "execution_count": 14,
   "metadata": {},
   "outputs": [
    {
     "data": {
      "text/latex": [
       "$7.7 \\times 10^{-14} \\; \\mathrm{\\frac{erg}{Hz\\,s\\,cm^{2}}}$"
      ],
      "text/plain": [
       "<Quantity 7.7e-14 erg / (Hz s cm2)>"
      ]
     },
     "execution_count": 14,
     "metadata": {},
     "output_type": "execute_result"
    }
   ],
   "source": [
    "# Testing\n",
    "Inu(S_nu, tau((10000*u.pc).to(u.cm))) # = Approaches the source function S_nu"
   ]
  },
  {
   "cell_type": "markdown",
   "metadata": {},
   "source": [
    "### (b)"
   ]
  },
  {
   "cell_type": "code",
   "execution_count": 15,
   "metadata": {},
   "outputs": [],
   "source": [
    "Inu_total = lambda background, source, tau_: background * np.exp(-tau_) + source * (1 - np.exp(-tau_)) # Including the background source we have the full RT equation. "
   ]
  },
  {
   "cell_type": "code",
   "execution_count": 16,
   "metadata": {},
   "outputs": [],
   "source": [
    "background = 2.0e-14 * (u.erg / u.cm**2 / u.s / u.Hz)"
   ]
  },
  {
   "cell_type": "code",
   "execution_count": 17,
   "metadata": {},
   "outputs": [
    {
     "data": {
      "text/latex": [
       "$2.2241234 \\times 10^{-14} \\; \\mathrm{\\frac{erg}{Hz\\,s\\,cm^{2}}}$"
      ],
      "text/plain": [
       "<Quantity 2.22412343e-14 erg / (Hz s cm2)>"
      ]
     },
     "execution_count": 17,
     "metadata": {},
     "output_type": "execute_result"
    }
   ],
   "source": [
    "Inu_total(background, S_nu, tau((1*u.pc).to(u.cm))) "
   ]
  },
  {
   "cell_type": "code",
   "execution_count": 18,
   "metadata": {},
   "outputs": [
    {
     "data": {
      "text/latex": [
       "$3.8835217 \\times 10^{-14} \\; \\mathrm{\\frac{erg}{Hz\\,s\\,cm^{2}}}$"
      ],
      "text/plain": [
       "<Quantity 3.88352169e-14 erg / (Hz s cm2)>"
      ]
     },
     "execution_count": 18,
     "metadata": {},
     "output_type": "execute_result"
    }
   ],
   "source": [
    "Inu_total(background, S_nu, tau((10*u.pc).to(u.cm))) "
   ]
  },
  {
   "cell_type": "code",
   "execution_count": 19,
   "metadata": {},
   "outputs": [
    {
     "data": {
      "text/latex": [
       "$7.5967823 \\times 10^{-14} \\; \\mathrm{\\frac{erg}{Hz\\,s\\,cm^{2}}}$"
      ],
      "text/plain": [
       "<Quantity 7.59678227e-14 erg / (Hz s cm2)>"
      ]
     },
     "execution_count": 19,
     "metadata": {},
     "output_type": "execute_result"
    }
   ],
   "source": [
    "Inu_total(background, S_nu, tau((100*u.pc).to(u.cm))) "
   ]
  },
  {
   "cell_type": "markdown",
   "metadata": {},
   "source": [
    "# Question 06 "
   ]
  },
  {
   "cell_type": "code",
   "execution_count": 20,
   "metadata": {},
   "outputs": [
    {
     "data": {
      "text/latex": [
       "$2.7386128 \\times 10^{-23} \\; \\mathrm{\\frac{erg}{Hz\\,s\\,cm^{3}}}$"
      ],
      "text/plain": [
       "<Quantity 2.73861279e-23 erg / (Hz s cm3)>"
      ]
     },
     "execution_count": 20,
     "metadata": {},
     "output_type": "execute_result"
    }
   ],
   "source": [
    "T = 3000 * u.K\n",
    "nu = (10 * u.GHz).to(u.Hz)\n",
    "\n",
    "j_nu = 5e-15 * (u.erg / u.s / u.cm**3 / u.Hz) / (u.K**0.5 / u.Hz) * T**0.5 / nu\n",
    "\n",
    "j_nu"
   ]
  },
  {
   "cell_type": "code",
   "execution_count": 21,
   "metadata": {},
   "outputs": [
    {
     "data": {
      "text/latex": [
       "$9.2163379 \\times 10^{-14} \\; \\mathrm{\\frac{erg}{Hz\\,s\\,cm^{2}}}$"
      ],
      "text/plain": [
       "<Quantity 9.21633789e-14 erg / (Hz s cm2)>"
      ]
     },
     "execution_count": 21,
     "metadata": {},
     "output_type": "execute_result"
    }
   ],
   "source": [
    "B_nu = 2 * h * nu**3 / c**2 / (np.exp(h * nu / (k_B * T)) - 1)\n",
    "B_nu.to(u.erg / u.s / u.cm**2 / u.Hz)"
   ]
  },
  {
   "cell_type": "markdown",
   "metadata": {},
   "source": [
    "#### (a)"
   ]
  },
  {
   "cell_type": "code",
   "execution_count": 22,
   "metadata": {},
   "outputs": [
    {
     "data": {
      "text/latex": [
       "$2.9714761 \\times 10^{-10} \\; \\mathrm{\\frac{1}{cm}}$"
      ],
      "text/plain": [
       "<Quantity 2.97147611e-10 1 / cm>"
      ]
     },
     "execution_count": 22,
     "metadata": {},
     "output_type": "execute_result"
    }
   ],
   "source": [
    "alpha_nu = j_nu / B_nu.to(u.erg / u.s / u.cm**2 / u.Hz)\n",
    "alpha_nu"
   ]
  },
  {
   "cell_type": "markdown",
   "metadata": {},
   "source": [
    "#### (b)"
   ]
  },
  {
   "cell_type": "code",
   "execution_count": 23,
   "metadata": {},
   "outputs": [
    {
     "data": {
      "text/latex": [
       "$0.029714761 \\; \\mathrm{}$"
      ],
      "text/plain": [
       "<Quantity 0.02971476>"
      ]
     },
     "execution_count": 23,
     "metadata": {},
     "output_type": "execute_result"
    }
   ],
   "source": [
    "L = (1000 * u.km).to(u.cm)\n",
    "tau_nu = alpha_nu * L\n",
    "tau_nu"
   ]
  },
  {
   "cell_type": "markdown",
   "metadata": {},
   "source": [
    "### (c)"
   ]
  },
  {
   "cell_type": "code",
   "execution_count": 24,
   "metadata": {},
   "outputs": [
    {
     "data": {
      "text/latex": [
       "$2.6983242 \\times 10^{-15} \\; \\mathrm{\\frac{erg}{Hz\\,s\\,cm^{2}}}$"
      ],
      "text/plain": [
       "<Quantity 2.69832422e-15 erg / (Hz s cm2)>"
      ]
     },
     "execution_count": 24,
     "metadata": {},
     "output_type": "execute_result"
    }
   ],
   "source": [
    "(B_nu * (1-np.exp(-tau_nu))).to(u.erg / u.s / u.cm**2 / u.Hz)"
   ]
  },
  {
   "cell_type": "markdown",
   "metadata": {},
   "source": [
    "# Question 09"
   ]
  },
  {
   "cell_type": "code",
   "execution_count": 25,
   "metadata": {},
   "outputs": [
    {
     "data": {
      "text/plain": [
       "4.615493349664965"
      ]
     },
     "execution_count": 25,
     "metadata": {},
     "output_type": "execute_result"
    }
   ],
   "source": [
    "A = 2.9e-6\n",
    "A / (2*np.pi) / 1e-7"
   ]
  },
  {
   "cell_type": "code",
   "execution_count": 26,
   "metadata": {},
   "outputs": [
    {
     "data": {
      "text/latex": [
       "$1.4275831 \\; \\mathrm{\\frac{1}{s}}$"
      ],
      "text/plain": [
       "<Quantity 1.42758313 1 / s>"
      ]
     },
     "execution_count": 26,
     "metadata": {},
     "output_type": "execute_result"
    }
   ],
   "source": [
    "wav_HI = (21 * u.cm).to(u.m)\n",
    "nu_0 = c / wav_HI\n",
    "nu_0.to(1/u.s) / 1e9"
   ]
  },
  {
   "cell_type": "code",
   "execution_count": 27,
   "metadata": {},
   "outputs": [
    {
     "data": {
      "text/latex": [
       "$1.9363288 \\; \\mathrm{\\frac{1}{s}}$"
      ],
      "text/plain": [
       "<Quantity 1.93632882 1 / s>"
      ]
     },
     "execution_count": 27,
     "metadata": {},
     "output_type": "execute_result"
    }
   ],
   "source": [
    "T = 1e3 * u.K \n",
    "m_p = (1.67e-24 * u.g).to(u.kg)\n",
    "\n",
    "delta_nu_D = (np.sqrt(2 * k_B * T / m_p) * nu_0 / c).to(1/u.s)\n",
    "delta_nu_D / 1e4"
   ]
  }
 ],
 "metadata": {
  "kernelspec": {
   "display_name": "base",
   "language": "python",
   "name": "python3"
  },
  "language_info": {
   "codemirror_mode": {
    "name": "ipython",
    "version": 3
   },
   "file_extension": ".py",
   "mimetype": "text/x-python",
   "name": "python",
   "nbconvert_exporter": "python",
   "pygments_lexer": "ipython3",
   "version": "3.11.7"
  }
 },
 "nbformat": 4,
 "nbformat_minor": 2
}
